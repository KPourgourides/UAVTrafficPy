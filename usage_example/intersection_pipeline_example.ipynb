{
 "cells": [
  {
   "cell_type": "code",
   "execution_count": null,
   "metadata": {},
   "outputs": [],
   "source": [
    "import sys\n",
    "sys.path.append('path/to/UAVTrafficPy')"
   ]
  },
  {
   "cell_type": "code",
   "execution_count": 25,
   "metadata": {},
   "outputs": [],
   "source": [
    "from UAVTrafficPy.tests import dataload_example\n",
    "from UAVTrafficPy.tool import uavtrafficpy\n",
    "tool=uavtrafficpy.Master()\n",
    "\n",
    "import numpy as np\n",
    "import matplotlib.pyplot as plt"
   ]
  },
  {
   "cell_type": "code",
   "execution_count": null,
   "metadata": {},
   "outputs": [],
   "source": [
    "dataset_information={\n",
    "    'day':'24Oct',\n",
    "    'month':'10',\n",
    "    'drone':'2',\n",
    "    'time_period':'0900_0930',\n",
    "    'road':'Panepistimiou',\n",
    "    'intersection':'Panepistimiou-Omirou'\n",
    "    }\n",
    "\n",
    "nickname = f'Drone{dataset_information.get('drone')}_{dataset_information.get('day')}_{dataset_information.get('time_period')}'\n",
    "file_path= fr'C:\\Users\\kpourg01\\Desktop\\Work\\Code\\pNEUMA\\datasets\\{dataset_information.get('road')}/2018{dataset_information.get('month')}{dataset_information.get('day')[:2]}_d{dataset_information.get('drone')}_{dataset_information.get('time_period')}.csv'"
   ]
  },
  {
   "cell_type": "code",
   "execution_count": null,
   "metadata": {},
   "outputs": [],
   "source": [
    "#sampling period must be integer multiple of 0.04\n",
    "period_dataloading=0.2\n",
    "time_decimals=1\n",
    "#===========================================================================================\n",
    "raw_data = dataload_example.get_info_pneuma(file_path=file_path, sampling_period=period_dataloading, time_decimals=time_decimals, position_smoothing=2)"
   ]
  },
  {
   "cell_type": "code",
   "execution_count": null,
   "metadata": {},
   "outputs": [],
   "source": [
    "period_flowcount=1\n",
    "#----------------------------------------------------\n",
    "start = min(min(set) for set in raw_data.get('time'))\n",
    "end = max(max(set) for set in raw_data.get('time'))\n",
    "time_axis = np.round(np.arange(start,end+period_flowcount,period_flowcount),decimals=time_decimals).tolist()\n",
    "#----------------------------------------------------\n",
    "ll_lat,ll_lon = 37.97811671602297, 23.733975874806358\n",
    "lr_lat,lr_lon = 37.97876143771719, 23.735210640421347\n",
    "ur_lat,ur_lon = 37.97938790250702, 23.734674127747873\n",
    "ul_lat,ul_lon = 37.97874587304865, 23.73345028699124\n",
    "#----------------------------------------------------\n",
    "bbox = [(ll_lat,ll_lon), \n",
    "        (lr_lat,lr_lon),\n",
    "        (ur_lat,ur_lon),\n",
    "        (ul_lat,ul_lon)]\n",
    "#----------------------------------------------------\n",
    "intersection_center=(37.97866950849114, 23.734362398006162)\n",
    "#----------------------------------------------------\n",
    "spatio_temporal_info =  {'bbox':bbox,'intersection center':intersection_center,'time axis': time_axis}"
   ]
  },
  {
   "cell_type": "code",
   "execution_count": null,
   "metadata": {},
   "outputs": [],
   "source": [
    "dataloader = tool.dataloader(raw_data,spatio_temporal_info)\n",
    "data = dataloader.get_filtered_data(cursed_ids=[208,1442,75,2450,140,1151,1469,628,2941,154,917,614,682,326,1246,1281,1817,2021,1659,2480,2509])\n",
    "analysis = tool.analysis(data,spatio_temporal_info)\n",
    "visualization = tool.visualization(data,spatio_temporal_info)"
   ]
  },
  {
   "cell_type": "code",
   "execution_count": null,
   "metadata": {},
   "outputs": [],
   "source": [
    "visualization.draw_trajectories_od()"
   ]
  },
  {
   "cell_type": "code",
   "execution_count": null,
   "metadata": {},
   "outputs": [],
   "source": [
    "od_pairs = analysis.get_od_pairs()\n",
    "valid_od_pairs = [(1,3),(1,2),(4,3),(4,2)]\n",
    "visualization.draw_trajectories_cc(valid_od_pairs)"
   ]
  },
  {
   "cell_type": "code",
   "execution_count": null,
   "metadata": {},
   "outputs": [],
   "source": [
    "fig,ax = plt.subplots(nrows=1,ncols=2,figsize=(10,3))\n",
    "\n",
    "labels_a = [r'1$\\to$3', r'1$\\to$2']\n",
    "sizes_a = [100*sum([1 for pair in od_pairs if pair in [(1,3)]])/(len(od_pairs)), 100*sum([1 for pair in od_pairs if pair in [(1,2)]])/(len(od_pairs))]\n",
    "\n",
    "#ax[0].set_title('Turn ratios for trajectories originating from Panepistimiou Ave.')\n",
    "ax[0].pie(sizes_a,labels=labels_a,colors=['blue','orange'],autopct='%1.1f%%', textprops={'fontsize':13,'fontweight':'bold'},startangle=90)\n",
    "\n",
    "labels_b = [r'4$\\to$2',r'4$\\to$3']\n",
    "sizes_b = [100*sum([1 for pair in od_pairs if pair in [(4,2)]])/(len(od_pairs)), 100*sum([1 for pair in od_pairs if pair in [(4,3)]])/(len(od_pairs))]\n",
    "\n",
    "#ax[1].set_title('Turn ratios for trajectories originating from Omirou Str.')\n",
    "ax[1].pie(sizes_b,labels=labels_b,colors=['green','red'],autopct='%1.1f%%', textprops={'fontsize':13,'fontweight':'bold'},  startangle=90)\n",
    "\n",
    "\n",
    "plt.tight_layout()\n",
    "plt.show(close=True)"
   ]
  },
  {
   "cell_type": "code",
   "execution_count": null,
   "metadata": {},
   "outputs": [],
   "source": [
    "data_a = analysis.get_od_data(desirable_pairs=[(1,3),(1,2)])\n",
    "analysis_a = tool.analysis(data_a,spatio_temporal_info)\n",
    "visual_a = tool.visualization(data_a,spatio_temporal_info)\n",
    "#----------------------------------------------------------------------\n",
    "data_b = analysis.get_od_data(desirable_pairs=[(4,3),(4,2)])\n",
    "analysis_b = tool.analysis(data_b,spatio_temporal_info)\n",
    "visual_b = tool.visualization(data_b,spatio_temporal_info)"
   ]
  },
  {
   "cell_type": "code",
   "execution_count": null,
   "metadata": {},
   "outputs": [],
   "source": [
    "lane_info_a = analysis_a.get_lane_info(flow_direction='up',nbins=100,valid_od_pairs=[(1,3)])"
   ]
  },
  {
   "cell_type": "code",
   "execution_count": null,
   "metadata": {},
   "outputs": [],
   "source": [
    "lane_info_b = analysis_b.get_lane_info(flow_direction='left',nbins=3,valid_od_pairs=[(4,2)])"
   ]
  },
  {
   "cell_type": "code",
   "execution_count": null,
   "metadata": {},
   "outputs": [],
   "source": [
    "detector_positions_a = (37.978572395827086, 23.734345599162733)\n",
    "#---------------------------\n",
    "flow_info_a = analysis_a.get_flow_info(detector_positions_a)\n",
    "flow_a,norm_flow_a = analysis_a.get_normalized_flow(threshold=10)\n",
    "#============================\n",
    "detector_positions_b = (37.97876743300198, 23.734464957457945)\n",
    "#----------------------------\n",
    "flow_info_b = analysis_b.get_flow_info(detector_positions_b)\n",
    "flow_b,norm_flow_b = analysis_b.get_normalized_flow(threshold=15)"
   ]
  },
  {
   "cell_type": "code",
   "execution_count": null,
   "metadata": {},
   "outputs": [],
   "source": [
    "print(f'flow counts main: {sum(flow_a)}, max vehicles: {len(data_a.get('id'))}')\n",
    "print(f'\\nflow counts secondary: {sum(flow_b)}, max vehicles: {len(data_b.get('id'))}')"
   ]
  },
  {
   "cell_type": "code",
   "execution_count": null,
   "metadata": {},
   "outputs": [],
   "source": [
    "legend_a=r'1 $\\to$ 3,2'\n",
    "legend_b=r'4 $\\to$ 3,2'\n",
    "visualization.draw_traffic_light_phases(legend_a,legend_b,norm_flow_a,norm_flow_b,flow_a,flow_b)"
   ]
  },
  {
   "cell_type": "code",
   "execution_count": null,
   "metadata": {},
   "outputs": [],
   "source": [
    "tlp_a = analysis_a.get_traffic_light_phases()\n",
    "tlp_b = analysis_b.get_traffic_light_phases()\n",
    "#==================================================\n",
    "cycles = analysis.get_traffic_light_cycles(tlp_a,tlp_b)"
   ]
  },
  {
   "cell_type": "code",
   "execution_count": null,
   "metadata": {},
   "outputs": [],
   "source": [
    "sorted_id_a = analysis_a.get_sorted_id()\n",
    "gaps_a = analysis_a.get_gaps()\n",
    "#==============================================\n",
    "sorted_id_b = analysis_b.get_sorted_id()\n",
    "gaps_b = analysis_b.get_gaps()"
   ]
  },
  {
   "cell_type": "code",
   "execution_count": null,
   "metadata": {},
   "outputs": [],
   "source": [
    "queue_info_a = analysis_a.get_queue_info(speed_threshold=10, gap_threshold=7)\n",
    "queue_info_b = analysis_b.get_queue_info(speed_threshold=10, gap_threshold=7)"
   ]
  }
 ],
 "metadata": {
  "kernelspec": {
   "display_name": "KIOS",
   "language": "python",
   "name": "python3"
  },
  "language_info": {
   "codemirror_mode": {
    "name": "ipython",
    "version": 3
   },
   "file_extension": ".py",
   "mimetype": "text/x-python",
   "name": "python",
   "nbconvert_exporter": "python",
   "pygments_lexer": "ipython3",
   "version": "3.12.8"
  }
 },
 "nbformat": 4,
 "nbformat_minor": 2
}
